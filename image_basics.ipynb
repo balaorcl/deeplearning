{
  "nbformat": 4,
  "nbformat_minor": 0,
  "metadata": {
    "colab": {
      "name": "image_basics.ipynb",
      "provenance": [],
      "collapsed_sections": [],
      "authorship_tag": "ABX9TyOmz4NuMzSpfxazJUqTnY3h",
      "include_colab_link": true
    },
    "kernelspec": {
      "name": "python3",
      "display_name": "Python 3"
    }
  },
  "cells": [
    {
      "cell_type": "markdown",
      "metadata": {
        "id": "view-in-github",
        "colab_type": "text"
      },
      "source": [
        "<a href=\"https://colab.research.google.com/github/balaorcl/deeplearning/blob/main/image_basics.ipynb\" target=\"_parent\"><img src=\"https://colab.research.google.com/assets/colab-badge.svg\" alt=\"Open In Colab\"/></a>"
      ]
    },
    {
      "cell_type": "code",
      "metadata": {
        "colab": {
          "base_uri": "https://localhost:8080/"
        },
        "id": "hxxWmcs17gxZ",
        "outputId": "392b0d41-e615-44e7-d77e-248ffb81d935"
      },
      "source": [
        "!pip install Pillow"
      ],
      "execution_count": 4,
      "outputs": [
        {
          "output_type": "stream",
          "text": [
            "Requirement already satisfied: Pillow in /usr/local/lib/python3.6/dist-packages (7.0.0)\n"
          ],
          "name": "stdout"
        }
      ]
    },
    {
      "cell_type": "code",
      "metadata": {
        "id": "XwCtrDlB8Q9t"
      },
      "source": [
        "from PIL import Image\r\n",
        "from statistics import mean\r\n",
        "import numpy as np\r\n",
        "import matplotlib.pyplot as plt\r\n",
        "import time\r\n",
        "%matplotlib inline"
      ],
      "execution_count": 43,
      "outputs": []
    },
    {
      "cell_type": "code",
      "metadata": {
        "colab": {
          "base_uri": "https://localhost:8080/"
        },
        "id": "ScxzLeJV8q5y",
        "outputId": "d0c3330e-d3df-4eee-9431-bd5c90d7cc45"
      },
      "source": [
        "i1 = Image.open('/content/images/dot.png')\r\n",
        "iar1 = np.asarray(i1)\r\n",
        "print(iar)"
      ],
      "execution_count": 29,
      "outputs": [
        {
          "output_type": "stream",
          "text": [
            "[[[  0   0   0 255]\n",
            "  [255 255 255 255]\n",
            "  [255 255 255 255]\n",
            "  [255 255 255 255]\n",
            "  [255 255 255 255]\n",
            "  [255 255 255 255]\n",
            "  [255 255 255 255]\n",
            "  [255 255 255 255]]\n",
            "\n",
            " [[255 255 255 255]\n",
            "  [255 255 255 255]\n",
            "  [255 255 255 255]\n",
            "  [255 255 255 255]\n",
            "  [255 255 255 255]\n",
            "  [255 255 255 255]\n",
            "  [255 255 255 255]\n",
            "  [255 255 255 255]]\n",
            "\n",
            " [[255 255 255 255]\n",
            "  [255 255 255 255]\n",
            "  [255 255 255 255]\n",
            "  [255 255 255 255]\n",
            "  [255 255 255 255]\n",
            "  [255 255 255 255]\n",
            "  [255 255 255 255]\n",
            "  [255 255 255 255]]\n",
            "\n",
            " [[255 255 255 255]\n",
            "  [255 255 255 255]\n",
            "  [255 255 255 255]\n",
            "  [255 255 255 255]\n",
            "  [255 255 255 255]\n",
            "  [255 255 255 255]\n",
            "  [255 255 255 255]\n",
            "  [255 255 255 255]]\n",
            "\n",
            " [[255 255 255 255]\n",
            "  [255 255 255 255]\n",
            "  [255 255 255 255]\n",
            "  [255 255 255 255]\n",
            "  [255 255 255 255]\n",
            "  [255 255 255 255]\n",
            "  [255 255 255 255]\n",
            "  [255 255 255 255]]\n",
            "\n",
            " [[255 255 255 255]\n",
            "  [255 255 255 255]\n",
            "  [255 255 255 255]\n",
            "  [255 255 255 255]\n",
            "  [255 255 255 255]\n",
            "  [255 255 255 255]\n",
            "  [255 255 255 255]\n",
            "  [255 255 255 255]]\n",
            "\n",
            " [[255 255 255 255]\n",
            "  [255 255 255 255]\n",
            "  [255 255 255 255]\n",
            "  [255 255 255 255]\n",
            "  [255 255 255 255]\n",
            "  [255 255 255 255]\n",
            "  [255 255 255 255]\n",
            "  [255 255 255 255]]\n",
            "\n",
            " [[255 255 255 255]\n",
            "  [255 255 255 255]\n",
            "  [255 255 255 255]\n",
            "  [255 255 255 255]\n",
            "  [255 255 255 255]\n",
            "  [255 255 255 255]\n",
            "  [255 255 255 255]\n",
            "  [255 255 255 255]]]\n"
          ],
          "name": "stdout"
        }
      ]
    },
    {
      "cell_type": "code",
      "metadata": {
        "colab": {
          "base_uri": "https://localhost:8080/"
        },
        "id": "NRVbohVR89_D",
        "outputId": "97a56414-6b82-4791-9569-4a473e09c8c0"
      },
      "source": [
        "iar.shape, iar.ndim"
      ],
      "execution_count": 30,
      "outputs": [
        {
          "output_type": "execute_result",
          "data": {
            "text/plain": [
              "((8, 8, 4), 3)"
            ]
          },
          "metadata": {
            "tags": []
          },
          "execution_count": 30
        }
      ]
    },
    {
      "cell_type": "code",
      "metadata": {
        "colab": {
          "base_uri": "https://localhost:8080/"
        },
        "id": "JLyBPuj39aCs",
        "outputId": "950f5a97-cfef-4461-a0b5-70e1d935043c"
      },
      "source": [
        "i2 = Image.open('/content/images/dotndot.png')\r\n",
        "iar2 = np.asarray(i2)\r\n",
        "print(iar2)"
      ],
      "execution_count": 34,
      "outputs": [
        {
          "output_type": "stream",
          "text": [
            "[[[  0   0   0 255]\n",
            "  [ 34 177  76 255]\n",
            "  [255 255 255 255]\n",
            "  [255 255 255 255]\n",
            "  [255 255 255 255]\n",
            "  [255 255 255 255]\n",
            "  [255 255 255 255]\n",
            "  [255 255 255 255]]\n",
            "\n",
            " [[255 255 255 255]\n",
            "  [255 255 255 255]\n",
            "  [255 255 255 255]\n",
            "  [255 255 255 255]\n",
            "  [255 255 255 255]\n",
            "  [255 255 255 255]\n",
            "  [255 255 255 255]\n",
            "  [255 255 255 255]]\n",
            "\n",
            " [[255 255 255 255]\n",
            "  [255 255 255 255]\n",
            "  [255 255 255 255]\n",
            "  [255 255 255 255]\n",
            "  [255 255 255 255]\n",
            "  [255 255 255 255]\n",
            "  [255 255 255 255]\n",
            "  [255 255 255 255]]\n",
            "\n",
            " [[255 255 255 255]\n",
            "  [255 255 255 255]\n",
            "  [255 255 255 255]\n",
            "  [255 255 255 255]\n",
            "  [255 255 255 255]\n",
            "  [255 255 255 255]\n",
            "  [255 255 255 255]\n",
            "  [255 255 255 255]]\n",
            "\n",
            " [[255 255 255 255]\n",
            "  [255 255 255 255]\n",
            "  [255 255 255 255]\n",
            "  [255 255 255 255]\n",
            "  [255 255 255 255]\n",
            "  [255 255 255 255]\n",
            "  [255 255 255 255]\n",
            "  [255 255 255 255]]\n",
            "\n",
            " [[255 255 255 255]\n",
            "  [255 255 255 255]\n",
            "  [255 255 255 255]\n",
            "  [255 255 255 255]\n",
            "  [255 255 255 255]\n",
            "  [255 255 255 255]\n",
            "  [255 255 255 255]\n",
            "  [255 255 255 255]]\n",
            "\n",
            " [[255 255 255 255]\n",
            "  [255 255 255 255]\n",
            "  [255 255 255 255]\n",
            "  [255 255 255 255]\n",
            "  [255 255 255 255]\n",
            "  [255 255 255 255]\n",
            "  [255 255 255 255]\n",
            "  [255 255 255 255]]\n",
            "\n",
            " [[255 255 255 255]\n",
            "  [255 255 255 255]\n",
            "  [255 255 255 255]\n",
            "  [255 255 255 255]\n",
            "  [255 255 255 255]\n",
            "  [255 255 255 255]\n",
            "  [255 255 255 255]\n",
            "  [255 255 255 255]]]\n"
          ],
          "name": "stdout"
        }
      ]
    },
    {
      "cell_type": "code",
      "metadata": {
        "colab": {
          "base_uri": "https://localhost:8080/",
          "height": 282
        },
        "id": "omcPZHlRCuMl",
        "outputId": "9b9b5617-bc4c-4fec-c2f5-a7a44afb0aff"
      },
      "source": [
        "plt.imshow(iar1)"
      ],
      "execution_count": 32,
      "outputs": [
        {
          "output_type": "execute_result",
          "data": {
            "text/plain": [
              "<matplotlib.image.AxesImage at 0x7f0b5af8c7f0>"
            ]
          },
          "metadata": {
            "tags": []
          },
          "execution_count": 32
        },
        {
          "output_type": "display_data",
          "data": {
            "image/png": "[encoded data removed]",
            "text/plain": [
              "<Figure size 432x288 with 1 Axes>"
            ]
          },
          "metadata": {
            "tags": [],
            "needs_background": "light"
          }
        }
      ]
    },
    {
      "cell_type": "code",
      "metadata": {
        "colab": {
          "base_uri": "https://localhost:8080/",
          "height": 282
        },
        "id": "lHzy8oIYHcUZ",
        "outputId": "8d7dfde7-2fa6-4644-a5bb-1047cb6b7f8d"
      },
      "source": [
        "plt.imshow(iar2)"
      ],
      "execution_count": 33,
      "outputs": [
        {
          "output_type": "execute_result",
          "data": {
            "text/plain": [
              "<matplotlib.image.AxesImage at 0x7f0b5aefd940>"
            ]
          },
          "metadata": {
            "tags": []
          },
          "execution_count": 33
        },
        {
          "output_type": "display_data",
          "data": {
            "image/png": "[encoded data removed]",
            "text/plain": [
              "<Figure size 432x288 with 1 Axes>"
            ]
          },
          "metadata": {
            "tags": [],
            "needs_background": "light"
          }
        }
      ]
    },
    {
      "cell_type": "markdown",
      "metadata": {
        "id": "D2_6Tu8oH8kM"
      },
      "source": [
        "## Thresholding\r\n",
        "\r\n",
        "* The idea of thresholding is to simplify the image.\r\n",
        "* Any issue arises When we are trying to identify characters, shapes, objects because of massive list of colors\r\n",
        "* Anything complex, to be analysed to be broken down to most basic parts\r\n",
        "* Using thresholding, we can look at an image, analyze the \"average\" color and turn that \"average\" into the threshold between white or black\r\n",
        "\r\n"
      ]
    },
    {
      "cell_type": "code",
      "metadata": {
        "colab": {
          "base_uri": "https://localhost:8080/"
        },
        "id": "H9iMVViPKAgD",
        "outputId": "0e25cf35-ffeb-4218-98b4-d9f44833bb72"
      },
      "source": [
        "i3 = Image.open('/content/images/numbers/y0.4.png')\r\n",
        "iar3 = np.asarray(i3)\r\n",
        "iar3"
      ],
      "execution_count": 35,
      "outputs": [
        {
          "output_type": "execute_result",
          "data": {
            "text/plain": [
              "array([[[255, 242,   0, 255],\n",
              "        [255, 242,   0, 255],\n",
              "        [ 63,  72, 204, 255],\n",
              "        [ 63,  72, 204, 255],\n",
              "        [ 63,  72, 204, 255],\n",
              "        [ 63,  72, 204, 255],\n",
              "        [255, 242,   0, 255],\n",
              "        [255, 242,   0, 255]],\n",
              "\n",
              "       [[255, 242,   0, 255],\n",
              "        [ 63,  72, 204, 255],\n",
              "        [255, 242,   0, 255],\n",
              "        [255, 242,   0, 255],\n",
              "        [255, 242,   0, 255],\n",
              "        [255, 242,   0, 255],\n",
              "        [ 63,  72, 204, 255],\n",
              "        [255, 242,   0, 255]],\n",
              "\n",
              "       [[ 63,  72, 204, 255],\n",
              "        [255, 242,   0, 255],\n",
              "        [255, 242,   0, 255],\n",
              "        [255, 242,   0, 255],\n",
              "        [255, 242,   0, 255],\n",
              "        [255, 242,   0, 255],\n",
              "        [255, 242,   0, 255],\n",
              "        [ 63,  72, 204, 255]],\n",
              "\n",
              "       [[ 63,  72, 204, 255],\n",
              "        [255, 242,   0, 255],\n",
              "        [255, 242,   0, 255],\n",
              "        [255, 242,   0, 255],\n",
              "        [255, 242,   0, 255],\n",
              "        [255, 242,   0, 255],\n",
              "        [255, 242,   0, 255],\n",
              "        [ 63,  72, 204, 255]],\n",
              "\n",
              "       [[ 63,  72, 204, 255],\n",
              "        [255, 242,   0, 255],\n",
              "        [255, 242,   0, 255],\n",
              "        [255, 242,   0, 255],\n",
              "        [255, 242,   0, 255],\n",
              "        [255, 242,   0, 255],\n",
              "        [255, 242,   0, 255],\n",
              "        [ 63,  72, 204, 255]],\n",
              "\n",
              "       [[ 63,  72, 204, 255],\n",
              "        [255, 242,   0, 255],\n",
              "        [255, 242,   0, 255],\n",
              "        [255, 242,   0, 255],\n",
              "        [255, 242,   0, 255],\n",
              "        [255, 242,   0, 255],\n",
              "        [255, 242,   0, 255],\n",
              "        [ 63,  72, 204, 255]],\n",
              "\n",
              "       [[255, 242,   0, 255],\n",
              "        [ 63,  72, 204, 255],\n",
              "        [255, 242,   0, 255],\n",
              "        [255, 242,   0, 255],\n",
              "        [255, 242,   0, 255],\n",
              "        [255, 242,   0, 255],\n",
              "        [ 63,  72, 204, 255],\n",
              "        [255, 242,   0, 255]],\n",
              "\n",
              "       [[255, 242,   0, 255],\n",
              "        [255, 242,   0, 255],\n",
              "        [ 63,  72, 204, 255],\n",
              "        [ 63,  72, 204, 255],\n",
              "        [ 63,  72, 204, 255],\n",
              "        [ 63,  72, 204, 255],\n",
              "        [255, 242,   0, 255],\n",
              "        [255, 242,   0, 255]]], dtype=uint8)"
            ]
          },
          "metadata": {
            "tags": []
          },
          "execution_count": 35
        }
      ]
    },
    {
      "cell_type": "code",
      "metadata": {
        "colab": {
          "base_uri": "https://localhost:8080/",
          "height": 282
        },
        "id": "EjSGZSdYLEr2",
        "outputId": "8f82b9cb-d0cd-4e6a-ebdb-4867b11a431e"
      },
      "source": [
        "plt.imshow(iar3)\r\n"
      ],
      "execution_count": 37,
      "outputs": [
        {
          "output_type": "execute_result",
          "data": {
            "text/plain": [
              "<matplotlib.image.AxesImage at 0x7f0b5b14d278>"
            ]
          },
          "metadata": {
            "tags": []
          },
          "execution_count": 37
        },
        {
          "output_type": "display_data",
          "data": {
            "image/png": "[encoded data removed]",
            "text/plain": [
              "<Figure size 432x288 with 1 Axes>"
            ]
          },
          "metadata": {
            "tags": [],
            "needs_background": "light"
          }
        }
      ]
    },
    {
      "cell_type": "code",
      "metadata": {
        "colab": {
          "base_uri": "https://localhost:8080/"
        },
        "id": "va-tWrLQLSo0",
        "outputId": "e45596cc-cb0a-4f89-d8b8-dd5e8301ac6c"
      },
      "source": [
        "i4 = Image.open('/content/images/numbers/0.4.png')\r\n",
        "iar4 = np.asarray(i4)\r\n",
        "iar4"
      ],
      "execution_count": 38,
      "outputs": [
        {
          "output_type": "execute_result",
          "data": {
            "text/plain": [
              "array([[[255, 255, 255, 255],\n",
              "        [  0,   0,   0, 255],\n",
              "        [  0,   0,   0, 255],\n",
              "        [  0,   0,   0, 255],\n",
              "        [  0,   0,   0, 255],\n",
              "        [  0,   0,   0, 255],\n",
              "        [  0,   0,   0, 255],\n",
              "        [255, 255, 255, 255]],\n",
              "\n",
              "       [[  0,   0,   0, 255],\n",
              "        [  0,   0,   0, 255],\n",
              "        [255, 255, 255, 255],\n",
              "        [255, 255, 255, 255],\n",
              "        [255, 255, 255, 255],\n",
              "        [255, 255, 255, 255],\n",
              "        [  0,   0,   0, 255],\n",
              "        [  0,   0,   0, 255]],\n",
              "\n",
              "       [[  0,   0,   0, 255],\n",
              "        [255, 255, 255, 255],\n",
              "        [255, 255, 255, 255],\n",
              "        [255, 255, 255, 255],\n",
              "        [255, 255, 255, 255],\n",
              "        [255, 255, 255, 255],\n",
              "        [255, 255, 255, 255],\n",
              "        [  0,   0,   0, 255]],\n",
              "\n",
              "       [[  0,   0,   0, 255],\n",
              "        [255, 255, 255, 255],\n",
              "        [255, 255, 255, 255],\n",
              "        [255, 255, 255, 255],\n",
              "        [255, 255, 255, 255],\n",
              "        [255, 255, 255, 255],\n",
              "        [255, 255, 255, 255],\n",
              "        [  0,   0,   0, 255]],\n",
              "\n",
              "       [[  0,   0,   0, 255],\n",
              "        [255, 255, 255, 255],\n",
              "        [255, 255, 255, 255],\n",
              "        [255, 255, 255, 255],\n",
              "        [255, 255, 255, 255],\n",
              "        [255, 255, 255, 255],\n",
              "        [255, 255, 255, 255],\n",
              "        [  0,   0,   0, 255]],\n",
              "\n",
              "       [[  0,   0,   0, 255],\n",
              "        [255, 255, 255, 255],\n",
              "        [255, 255, 255, 255],\n",
              "        [255, 255, 255, 255],\n",
              "        [255, 255, 255, 255],\n",
              "        [255, 255, 255, 255],\n",
              "        [255, 255, 255, 255],\n",
              "        [  0,   0,   0, 255]],\n",
              "\n",
              "       [[  0,   0,   0, 255],\n",
              "        [  0,   0,   0, 255],\n",
              "        [255, 255, 255, 255],\n",
              "        [255, 255, 255, 255],\n",
              "        [255, 255, 255, 255],\n",
              "        [255, 255, 255, 255],\n",
              "        [  0,   0,   0, 255],\n",
              "        [  0,   0,   0, 255]],\n",
              "\n",
              "       [[255, 255, 255, 255],\n",
              "        [  0,   0,   0, 255],\n",
              "        [  0,   0,   0, 255],\n",
              "        [  0,   0,   0, 255],\n",
              "        [  0,   0,   0, 255],\n",
              "        [  0,   0,   0, 255],\n",
              "        [  0,   0,   0, 255],\n",
              "        [255, 255, 255, 255]]], dtype=uint8)"
            ]
          },
          "metadata": {
            "tags": []
          },
          "execution_count": 38
        }
      ]
    },
    {
      "cell_type": "code",
      "metadata": {
        "colab": {
          "base_uri": "https://localhost:8080/"
        },
        "id": "OgevS4oRL7wk",
        "outputId": "8b47129e-5b77-4c1e-dc5a-3444db0ecf7d"
      },
      "source": [
        "# Our objective to simplify\r\n",
        "i5 = Image.open('/content/images/numbers/y0.5.png')\r\n",
        "iar5 = np.asarray(i5)\r\n",
        "iar5"
      ],
      "execution_count": 39,
      "outputs": [
        {
          "output_type": "execute_result",
          "data": {
            "text/plain": [
              "array([[[255, 242,   0, 255],\n",
              "        [255, 242,   0, 255],\n",
              "        [239, 228, 176, 255],\n",
              "        [239, 228, 176, 255],\n",
              "        [239, 228, 176, 255],\n",
              "        [239, 228, 176, 255],\n",
              "        [255, 242,   0, 255],\n",
              "        [255, 242,   0, 255]],\n",
              "\n",
              "       [[255, 242,   0, 255],\n",
              "        [239, 228, 176, 255],\n",
              "        [255, 242,   0, 255],\n",
              "        [255, 242,   0, 255],\n",
              "        [255, 242,   0, 255],\n",
              "        [255, 242,   0, 255],\n",
              "        [239, 228, 176, 255],\n",
              "        [255, 242,   0, 255]],\n",
              "\n",
              "       [[239, 228, 176, 255],\n",
              "        [255, 242,   0, 255],\n",
              "        [255, 242,   0, 255],\n",
              "        [255, 242,   0, 255],\n",
              "        [255, 242,   0, 255],\n",
              "        [255, 242,   0, 255],\n",
              "        [255, 242,   0, 255],\n",
              "        [239, 228, 176, 255]],\n",
              "\n",
              "       [[239, 228, 176, 255],\n",
              "        [255, 242,   0, 255],\n",
              "        [255, 242,   0, 255],\n",
              "        [255, 242,   0, 255],\n",
              "        [255, 242,   0, 255],\n",
              "        [255, 242,   0, 255],\n",
              "        [255, 242,   0, 255],\n",
              "        [239, 228, 176, 255]],\n",
              "\n",
              "       [[239, 228, 176, 255],\n",
              "        [255, 242,   0, 255],\n",
              "        [255, 242,   0, 255],\n",
              "        [255, 242,   0, 255],\n",
              "        [255, 242,   0, 255],\n",
              "        [255, 242,   0, 255],\n",
              "        [255, 242,   0, 255],\n",
              "        [239, 228, 176, 255]],\n",
              "\n",
              "       [[239, 228, 176, 255],\n",
              "        [255, 242,   0, 255],\n",
              "        [255, 242,   0, 255],\n",
              "        [255, 242,   0, 255],\n",
              "        [255, 242,   0, 255],\n",
              "        [255, 242,   0, 255],\n",
              "        [255, 242,   0, 255],\n",
              "        [239, 228, 176, 255]],\n",
              "\n",
              "       [[255, 242,   0, 255],\n",
              "        [239, 228, 176, 255],\n",
              "        [255, 242,   0, 255],\n",
              "        [255, 242,   0, 255],\n",
              "        [255, 242,   0, 255],\n",
              "        [255, 242,   0, 255],\n",
              "        [239, 228, 176, 255],\n",
              "        [255, 242,   0, 255]],\n",
              "\n",
              "       [[255, 242,   0, 255],\n",
              "        [255, 242,   0, 255],\n",
              "        [239, 228, 176, 255],\n",
              "        [239, 228, 176, 255],\n",
              "        [239, 228, 176, 255],\n",
              "        [239, 228, 176, 255],\n",
              "        [255, 242,   0, 255],\n",
              "        [255, 242,   0, 255]]], dtype=uint8)"
            ]
          },
          "metadata": {
            "tags": []
          },
          "execution_count": 39
        }
      ]
    },
    {
      "cell_type": "code",
      "metadata": {
        "colab": {
          "base_uri": "https://localhost:8080/",
          "height": 282
        },
        "id": "Vx8FC-RIMkMU",
        "outputId": "14388833-bb70-4b5e-c814-b372adfdade8"
      },
      "source": [
        "plt.imshow(iar5)"
      ],
      "execution_count": 40,
      "outputs": [
        {
          "output_type": "execute_result",
          "data": {
            "text/plain": [
              "<matplotlib.image.AxesImage at 0x7f0b5b16f780>"
            ]
          },
          "metadata": {
            "tags": []
          },
          "execution_count": 40
        },
        {
          "output_type": "display_data",
          "data": {
            "image/png": "[encoded data removed]",
            "text/plain": [
              "<Figure size 432x288 with 1 Axes>"
            ]
          },
          "metadata": {
            "tags": [],
            "needs_background": "light"
          }
        }
      ]
    },
    {
      "cell_type": "markdown",
      "metadata": {
        "id": "AY4vsI6NMrNM"
      },
      "source": [
        "## Thresholding Function\r\n",
        "\r\n",
        "* Create a function that will take the images we feed it and threshold it\r\n",
        "* We are going to do this by taking the \"average\" color value, and then thresholding any pixel as black if its darker or white if its is lighter\r\n"
      ]
    },
    {
      "cell_type": "code",
      "metadata": {
        "id": "v6gp3mTrNC0z"
      },
      "source": [
        "# parameter will be imageArray which is the array with pixel values\r\n",
        "def threshold(imageArray):\r\n",
        "  # Balance array at the end will be averaged to find threshold\r\n",
        "  balanceAr = []\r\n",
        "  # We cannot modify the actual array without NumPy throwing a fit\r\n",
        "  newAr = imageArray\r\n",
        "  for eachRow in imageArray:\r\n",
        "    for eachPix in eachRow:\r\n",
        "      avgNum = mean(eachPix[:3])\r\n",
        "      balanceAr.append(avgNum)\r\n",
        "  \r\n",
        "  balance = mean(balanceAr)\r\n",
        "\r\n",
        "  for eachRow in newAr:\r\n",
        "    for eachPix in eachRow:\r\n",
        "      if mean(eachPix[:3]) > balance:\r\n",
        "        eachPix[0] = 255\r\n",
        "        eachPix[1] = 255        \r\n",
        "        eachPix[2] = 255                \r\n",
        "        eachPix[3] = 255                        \r\n",
        "      else:\r\n",
        "        eachPix[0] = 0\r\n",
        "        eachPix[1] = 0        \r\n",
        "        eachPix[2] = 0                \r\n",
        "        eachPix[3] = 255\r\n",
        "\r\n",
        "  return newAr        \r\n"
      ],
      "execution_count": 44,
      "outputs": []
    },
    {
      "cell_type": "code",
      "metadata": {
        "id": "W0DxiZfUOuBi"
      },
      "source": [
        ""
      ],
      "execution_count": null,
      "outputs": []
    }
  ]
}