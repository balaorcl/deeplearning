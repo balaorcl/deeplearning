{
  "nbformat": 4,
  "nbformat_minor": 0,
  "metadata": {
    "colab": {
      "name": "image_basics.ipynb",
      "provenance": [],
      "collapsed_sections": [],
      "toc_visible": true,
      "mount_file_id": "1uk8c7hyGSYBd5FOTCVEGfg0X1ArXBJHz",
      "authorship_tag": "ABX9TyOVW6IxiaTo256JWdXBgPGw",
      "include_colab_link": true
    },
    "kernelspec": {
      "name": "python3",
      "display_name": "Python 3"
    }
  },
  "cells": [
    {
      "cell_type": "markdown",
      "metadata": {
        "id": "view-in-github",
        "colab_type": "text"
      },
      "source": [
        "<a href=\"https://colab.research.google.com/github/balaorcl/deeplearning/blob/main/image_basics.ipynb\" target=\"_parent\"><img src=\"https://colab.research.google.com/assets/colab-badge.svg\" alt=\"Open In Colab\"/></a>"
      ]
    },
    {
      "cell_type": "code",
      "metadata": {
        "colab": {
          "base_uri": "https://localhost:8080/"
        },
        "id": "RnOlmtJdRFK1",
        "outputId": "c74bcff3-bf09-4798-b500-13da0649f5fe"
      },
      "source": [
        "from google.colab import drive\r\n",
        "drive.mount('/content/drive')"
      ],
      "execution_count": 3,
      "outputs": [
        {
          "output_type": "stream",
          "text": [
            "Drive already mounted at /content/drive; to attempt to forcibly remount, call drive.mount(\"/content/drive\", force_remount=True).\n"
          ],
          "name": "stdout"
        }
      ]
    },
    {
      "cell_type": "code",
      "metadata": {
        "colab": {
          "base_uri": "https://localhost:8080/"
        },
        "id": "hxxWmcs17gxZ",
        "outputId": "392b0d41-e615-44e7-d77e-248ffb81d935"
      },
      "source": [
        "!pip install Pillow"
      ],
      "execution_count": null,
      "outputs": [
        {
          "output_type": "stream",
          "text": [
            "Requirement already satisfied: Pillow in /usr/local/lib/python3.6/dist-packages (7.0.0)\n"
          ],
          "name": "stdout"
        }
      ]
    },
    {
      "cell_type": "code",
      "metadata": {
        "id": "XwCtrDlB8Q9t"
      },
      "source": [
        "from PIL import Image\r\n",
        "from statistics import mean\r\n",
        "import numpy as np\r\n",
        "import matplotlib.pyplot as plt\r\n",
        "import time\r\n",
        "%matplotlib inline\r\n",
        "file_path = \"drive/My Drive\""
      ],
      "execution_count": 12,
      "outputs": []
    },
    {
      "cell_type": "code",
      "metadata": {
        "colab": {
          "base_uri": "https://localhost:8080/"
        },
        "id": "ScxzLeJV8q5y",
        "outputId": "f94cfc9e-8980-4677-b8ee-c7500474a071"
      },
      "source": [
        "i1 = Image.open(file_path+'/images/dot.png')\r\n",
        "iar1 = np.asarray(i1)\r\n",
        "print(iar1)"
      ],
      "execution_count": 13,
      "outputs": [
        {
          "output_type": "stream",
          "text": [
            "[[[  0   0   0 255]\n",
            "  [255 255 255 255]\n",
            "  [255 255 255 255]\n",
            "  [255 255 255 255]\n",
            "  [255 255 255 255]\n",
            "  [255 255 255 255]\n",
            "  [255 255 255 255]\n",
            "  [255 255 255 255]]\n",
            "\n",
            " [[255 255 255 255]\n",
            "  [255 255 255 255]\n",
            "  [255 255 255 255]\n",
            "  [255 255 255 255]\n",
            "  [255 255 255 255]\n",
            "  [255 255 255 255]\n",
            "  [255 255 255 255]\n",
            "  [255 255 255 255]]\n",
            "\n",
            " [[255 255 255 255]\n",
            "  [255 255 255 255]\n",
            "  [255 255 255 255]\n",
            "  [255 255 255 255]\n",
            "  [255 255 255 255]\n",
            "  [255 255 255 255]\n",
            "  [255 255 255 255]\n",
            "  [255 255 255 255]]\n",
            "\n",
            " [[255 255 255 255]\n",
            "  [255 255 255 255]\n",
            "  [255 255 255 255]\n",
            "  [255 255 255 255]\n",
            "  [255 255 255 255]\n",
            "  [255 255 255 255]\n",
            "  [255 255 255 255]\n",
            "  [255 255 255 255]]\n",
            "\n",
            " [[255 255 255 255]\n",
            "  [255 255 255 255]\n",
            "  [255 255 255 255]\n",
            "  [255 255 255 255]\n",
            "  [255 255 255 255]\n",
            "  [255 255 255 255]\n",
            "  [255 255 255 255]\n",
            "  [255 255 255 255]]\n",
            "\n",
            " [[255 255 255 255]\n",
            "  [255 255 255 255]\n",
            "  [255 255 255 255]\n",
            "  [255 255 255 255]\n",
            "  [255 255 255 255]\n",
            "  [255 255 255 255]\n",
            "  [255 255 255 255]\n",
            "  [255 255 255 255]]\n",
            "\n",
            " [[255 255 255 255]\n",
            "  [255 255 255 255]\n",
            "  [255 255 255 255]\n",
            "  [255 255 255 255]\n",
            "  [255 255 255 255]\n",
            "  [255 255 255 255]\n",
            "  [255 255 255 255]\n",
            "  [255 255 255 255]]\n",
            "\n",
            " [[255 255 255 255]\n",
            "  [255 255 255 255]\n",
            "  [255 255 255 255]\n",
            "  [255 255 255 255]\n",
            "  [255 255 255 255]\n",
            "  [255 255 255 255]\n",
            "  [255 255 255 255]\n",
            "  [255 255 255 255]]]\n"
          ],
          "name": "stdout"
        }
      ]
    },
    {
      "cell_type": "code",
      "metadata": {
        "colab": {
          "base_uri": "https://localhost:8080/",
          "height": 163
        },
        "id": "NRVbohVR89_D",
        "outputId": "ef4299de-0d8f-416a-e9c1-7ba9953366d5"
      },
      "source": [
        "iar1.shape, iar1.ndim"
      ],
      "execution_count": 10,
      "outputs": [
        {
          "output_type": "error",
          "ename": "NameError",
          "evalue": "ignored",
          "traceback": [
            "\u001b[0;31m---------------------------------------------------------------------------\u001b[0m",
            "\u001b[0;31mNameError\u001b[0m                                 Traceback (most recent call last)",
            "\u001b[0;32m<ipython-input-10-64c8dc2cb6b2>\u001b[0m in \u001b[0;36m<module>\u001b[0;34m()\u001b[0m\n\u001b[0;32m----> 1\u001b[0;31m \u001b[0miar\u001b[0m\u001b[0;34m.\u001b[0m\u001b[0mshape\u001b[0m\u001b[0;34m,\u001b[0m \u001b[0miar\u001b[0m\u001b[0;34m.\u001b[0m\u001b[0mndim\u001b[0m\u001b[0;34m\u001b[0m\u001b[0;34m\u001b[0m\u001b[0m\n\u001b[0m",
            "\u001b[0;31mNameError\u001b[0m: name 'iar' is not defined"
          ]
        }
      ]
    },
    {
      "cell_type": "code",
      "metadata": {
        "colab": {
          "base_uri": "https://localhost:8080/"
        },
        "id": "JLyBPuj39aCs",
        "outputId": "4e30f078-b7bc-4159-c540-2748ae50cc91"
      },
      "source": [
        "i2 = Image.open(file_path+'/images/dotndot.png')\r\n",
        "iar2 = np.asarray(i2)\r\n",
        "print(iar2)"
      ],
      "execution_count": 14,
      "outputs": [
        {
          "output_type": "stream",
          "text": [
            "[[[  0   0   0 255]\n",
            "  [ 34 177  76 255]\n",
            "  [255 255 255 255]\n",
            "  [255 255 255 255]\n",
            "  [255 255 255 255]\n",
            "  [255 255 255 255]\n",
            "  [255 255 255 255]\n",
            "  [255 255 255 255]]\n",
            "\n",
            " [[255 255 255 255]\n",
            "  [255 255 255 255]\n",
            "  [255 255 255 255]\n",
            "  [255 255 255 255]\n",
            "  [255 255 255 255]\n",
            "  [255 255 255 255]\n",
            "  [255 255 255 255]\n",
            "  [255 255 255 255]]\n",
            "\n",
            " [[255 255 255 255]\n",
            "  [255 255 255 255]\n",
            "  [255 255 255 255]\n",
            "  [255 255 255 255]\n",
            "  [255 255 255 255]\n",
            "  [255 255 255 255]\n",
            "  [255 255 255 255]\n",
            "  [255 255 255 255]]\n",
            "\n",
            " [[255 255 255 255]\n",
            "  [255 255 255 255]\n",
            "  [255 255 255 255]\n",
            "  [255 255 255 255]\n",
            "  [255 255 255 255]\n",
            "  [255 255 255 255]\n",
            "  [255 255 255 255]\n",
            "  [255 255 255 255]]\n",
            "\n",
            " [[255 255 255 255]\n",
            "  [255 255 255 255]\n",
            "  [255 255 255 255]\n",
            "  [255 255 255 255]\n",
            "  [255 255 255 255]\n",
            "  [255 255 255 255]\n",
            "  [255 255 255 255]\n",
            "  [255 255 255 255]]\n",
            "\n",
            " [[255 255 255 255]\n",
            "  [255 255 255 255]\n",
            "  [255 255 255 255]\n",
            "  [255 255 255 255]\n",
            "  [255 255 255 255]\n",
            "  [255 255 255 255]\n",
            "  [255 255 255 255]\n",
            "  [255 255 255 255]]\n",
            "\n",
            " [[255 255 255 255]\n",
            "  [255 255 255 255]\n",
            "  [255 255 255 255]\n",
            "  [255 255 255 255]\n",
            "  [255 255 255 255]\n",
            "  [255 255 255 255]\n",
            "  [255 255 255 255]\n",
            "  [255 255 255 255]]\n",
            "\n",
            " [[255 255 255 255]\n",
            "  [255 255 255 255]\n",
            "  [255 255 255 255]\n",
            "  [255 255 255 255]\n",
            "  [255 255 255 255]\n",
            "  [255 255 255 255]\n",
            "  [255 255 255 255]\n",
            "  [255 255 255 255]]]\n"
          ],
          "name": "stdout"
        }
      ]
    },
    {
      "cell_type": "code",
      "metadata": {
        "colab": {
          "base_uri": "https://localhost:8080/",
          "height": 282
        },
        "id": "omcPZHlRCuMl",
        "outputId": "202b075a-719e-4584-8183-f2f0435af1f2"
      },
      "source": [
        "plt.imshow(iar1)"
      ],
      "execution_count": 15,
      "outputs": [
        {
          "output_type": "execute_result",
          "data": {
            "text/plain": [
              "<matplotlib.image.AxesImage at 0x7f7dae2496d8>"
            ]
          },
          "metadata": {
            "tags": []
          },
          "execution_count": 15
        },
        {
          "output_type": "display_data",
          "data": {
            "image/png": "[encoded data removed]",
            "text/plain": [
              "<Figure size 432x288 with 1 Axes>"
            ]
          },
          "metadata": {
            "tags": [],
            "needs_background": "light"
          }
        }
      ]
    },
    {
      "cell_type": "code",
      "metadata": {
        "colab": {
          "base_uri": "https://localhost:8080/",
          "height": 282
        },
        "id": "lHzy8oIYHcUZ",
        "outputId": "2ca32826-5fe5-49bd-8c86-215d3b4c444c"
      },
      "source": [
        "plt.imshow(iar2)"
      ],
      "execution_count": 16,
      "outputs": [
        {
          "output_type": "execute_result",
          "data": {
            "text/plain": [
              "<matplotlib.image.AxesImage at 0x7f7dadd10b00>"
            ]
          },
          "metadata": {
            "tags": []
          },
          "execution_count": 16
        },
        {
          "output_type": "display_data",
          "data": {
            "image/png": "[encoded data removed]",
            "text/plain": [
              "<Figure size 432x288 with 1 Axes>"
            ]
          },
          "metadata": {
            "tags": [],
            "needs_background": "light"
          }
        }
      ]
    },
    {
      "cell_type": "markdown",
      "metadata": {
        "id": "D2_6Tu8oH8kM"
      },
      "source": [
        "## Thresholding\r\n",
        "\r\n",
        "* The idea of thresholding is to simplify the image.\r\n",
        "* Any issue arises When we are trying to identify characters, shapes, objects because of massive list of colors\r\n",
        "* Anything complex, to be analysed to be broken down to most basic parts\r\n",
        "* Using thresholding, we can look at an image, analyze the \"average\" color and turn that \"average\" into the threshold between white or black\r\n",
        "\r\n"
      ]
    },
    {
      "cell_type": "code",
      "metadata": {
        "colab": {
          "base_uri": "https://localhost:8080/"
        },
        "id": "H9iMVViPKAgD",
        "outputId": "6d9960e0-8ea6-4882-e530-a9d53fd43b11"
      },
      "source": [
        "i3 = Image.open(file_path+'/images/numbers/y0.4.png')\r\n",
        "iar3 = np.asarray(i3)\r\n",
        "iar3"
      ],
      "execution_count": 17,
      "outputs": [
        {
          "output_type": "execute_result",
          "data": {
            "text/plain": [
              "array([[[255, 242,   0, 255],\n",
              "        [255, 242,   0, 255],\n",
              "        [ 63,  72, 204, 255],\n",
              "        [ 63,  72, 204, 255],\n",
              "        [ 63,  72, 204, 255],\n",
              "        [ 63,  72, 204, 255],\n",
              "        [255, 242,   0, 255],\n",
              "        [255, 242,   0, 255]],\n",
              "\n",
              "       [[255, 242,   0, 255],\n",
              "        [ 63,  72, 204, 255],\n",
              "        [255, 242,   0, 255],\n",
              "        [255, 242,   0, 255],\n",
              "        [255, 242,   0, 255],\n",
              "        [255, 242,   0, 255],\n",
              "        [ 63,  72, 204, 255],\n",
              "        [255, 242,   0, 255]],\n",
              "\n",
              "       [[ 63,  72, 204, 255],\n",
              "        [255, 242,   0, 255],\n",
              "        [255, 242,   0, 255],\n",
              "        [255, 242,   0, 255],\n",
              "        [255, 242,   0, 255],\n",
              "        [255, 242,   0, 255],\n",
              "        [255, 242,   0, 255],\n",
              "        [ 63,  72, 204, 255]],\n",
              "\n",
              "       [[ 63,  72, 204, 255],\n",
              "        [255, 242,   0, 255],\n",
              "        [255, 242,   0, 255],\n",
              "        [255, 242,   0, 255],\n",
              "        [255, 242,   0, 255],\n",
              "        [255, 242,   0, 255],\n",
              "        [255, 242,   0, 255],\n",
              "        [ 63,  72, 204, 255]],\n",
              "\n",
              "       [[ 63,  72, 204, 255],\n",
              "        [255, 242,   0, 255],\n",
              "        [255, 242,   0, 255],\n",
              "        [255, 242,   0, 255],\n",
              "        [255, 242,   0, 255],\n",
              "        [255, 242,   0, 255],\n",
              "        [255, 242,   0, 255],\n",
              "        [ 63,  72, 204, 255]],\n",
              "\n",
              "       [[ 63,  72, 204, 255],\n",
              "        [255, 242,   0, 255],\n",
              "        [255, 242,   0, 255],\n",
              "        [255, 242,   0, 255],\n",
              "        [255, 242,   0, 255],\n",
              "        [255, 242,   0, 255],\n",
              "        [255, 242,   0, 255],\n",
              "        [ 63,  72, 204, 255]],\n",
              "\n",
              "       [[255, 242,   0, 255],\n",
              "        [ 63,  72, 204, 255],\n",
              "        [255, 242,   0, 255],\n",
              "        [255, 242,   0, 255],\n",
              "        [255, 242,   0, 255],\n",
              "        [255, 242,   0, 255],\n",
              "        [ 63,  72, 204, 255],\n",
              "        [255, 242,   0, 255]],\n",
              "\n",
              "       [[255, 242,   0, 255],\n",
              "        [255, 242,   0, 255],\n",
              "        [ 63,  72, 204, 255],\n",
              "        [ 63,  72, 204, 255],\n",
              "        [ 63,  72, 204, 255],\n",
              "        [ 63,  72, 204, 255],\n",
              "        [255, 242,   0, 255],\n",
              "        [255, 242,   0, 255]]], dtype=uint8)"
            ]
          },
          "metadata": {
            "tags": []
          },
          "execution_count": 17
        }
      ]
    },
    {
      "cell_type": "code",
      "metadata": {
        "colab": {
          "base_uri": "https://localhost:8080/",
          "height": 282
        },
        "id": "EjSGZSdYLEr2",
        "outputId": "30fe88ce-fc02-410b-b827-e616925400c6"
      },
      "source": [
        "plt.imshow(iar3)"
      ],
      "execution_count": 18,
      "outputs": [
        {
          "output_type": "execute_result",
          "data": {
            "text/plain": [
              "<matplotlib.image.AxesImage at 0x7f7dadcf1fd0>"
            ]
          },
          "metadata": {
            "tags": []
          },
          "execution_count": 18
        },
        {
          "output_type": "display_data",
          "data": {
            "image/png": "[encoded data removed]",
            "text/plain": [
              "<Figure size 432x288 with 1 Axes>"
            ]
          },
          "metadata": {
            "tags": [],
            "needs_background": "light"
          }
        }
      ]
    },
    {
      "cell_type": "code",
      "metadata": {
        "colab": {
          "base_uri": "https://localhost:8080/"
        },
        "id": "va-tWrLQLSo0",
        "outputId": "4ad2aab2-930d-4073-a583-d3e3eaab2601"
      },
      "source": [
        "i4 = Image.open(file_path+'/images/numbers/0.4.png')\r\n",
        "iar4 = np.asarray(i4)\r\n",
        "iar4"
      ],
      "execution_count": 19,
      "outputs": [
        {
          "output_type": "execute_result",
          "data": {
            "text/plain": [
              "array([[[255, 255, 255, 255],\n",
              "        [  0,   0,   0, 255],\n",
              "        [  0,   0,   0, 255],\n",
              "        [  0,   0,   0, 255],\n",
              "        [  0,   0,   0, 255],\n",
              "        [  0,   0,   0, 255],\n",
              "        [  0,   0,   0, 255],\n",
              "        [255, 255, 255, 255]],\n",
              "\n",
              "       [[  0,   0,   0, 255],\n",
              "        [  0,   0,   0, 255],\n",
              "        [255, 255, 255, 255],\n",
              "        [255, 255, 255, 255],\n",
              "        [255, 255, 255, 255],\n",
              "        [255, 255, 255, 255],\n",
              "        [  0,   0,   0, 255],\n",
              "        [  0,   0,   0, 255]],\n",
              "\n",
              "       [[  0,   0,   0, 255],\n",
              "        [255, 255, 255, 255],\n",
              "        [255, 255, 255, 255],\n",
              "        [255, 255, 255, 255],\n",
              "        [255, 255, 255, 255],\n",
              "        [255, 255, 255, 255],\n",
              "        [255, 255, 255, 255],\n",
              "        [  0,   0,   0, 255]],\n",
              "\n",
              "       [[  0,   0,   0, 255],\n",
              "        [255, 255, 255, 255],\n",
              "        [255, 255, 255, 255],\n",
              "        [255, 255, 255, 255],\n",
              "        [255, 255, 255, 255],\n",
              "        [255, 255, 255, 255],\n",
              "        [255, 255, 255, 255],\n",
              "        [  0,   0,   0, 255]],\n",
              "\n",
              "       [[  0,   0,   0, 255],\n",
              "        [255, 255, 255, 255],\n",
              "        [255, 255, 255, 255],\n",
              "        [255, 255, 255, 255],\n",
              "        [255, 255, 255, 255],\n",
              "        [255, 255, 255, 255],\n",
              "        [255, 255, 255, 255],\n",
              "        [  0,   0,   0, 255]],\n",
              "\n",
              "       [[  0,   0,   0, 255],\n",
              "        [255, 255, 255, 255],\n",
              "        [255, 255, 255, 255],\n",
              "        [255, 255, 255, 255],\n",
              "        [255, 255, 255, 255],\n",
              "        [255, 255, 255, 255],\n",
              "        [255, 255, 255, 255],\n",
              "        [  0,   0,   0, 255]],\n",
              "\n",
              "       [[  0,   0,   0, 255],\n",
              "        [  0,   0,   0, 255],\n",
              "        [255, 255, 255, 255],\n",
              "        [255, 255, 255, 255],\n",
              "        [255, 255, 255, 255],\n",
              "        [255, 255, 255, 255],\n",
              "        [  0,   0,   0, 255],\n",
              "        [  0,   0,   0, 255]],\n",
              "\n",
              "       [[255, 255, 255, 255],\n",
              "        [  0,   0,   0, 255],\n",
              "        [  0,   0,   0, 255],\n",
              "        [  0,   0,   0, 255],\n",
              "        [  0,   0,   0, 255],\n",
              "        [  0,   0,   0, 255],\n",
              "        [  0,   0,   0, 255],\n",
              "        [255, 255, 255, 255]]], dtype=uint8)"
            ]
          },
          "metadata": {
            "tags": []
          },
          "execution_count": 19
        }
      ]
    },
    {
      "cell_type": "code",
      "metadata": {
        "colab": {
          "base_uri": "https://localhost:8080/",
          "height": 282
        },
        "id": "pNODXBRkTIPN",
        "outputId": "5ea2c427-052d-46ed-c81d-4957b09ac7bc"
      },
      "source": [
        "plt.imshow(iar4)"
      ],
      "execution_count": 20,
      "outputs": [
        {
          "output_type": "execute_result",
          "data": {
            "text/plain": [
              "<matplotlib.image.AxesImage at 0x7f7dadc5d0f0>"
            ]
          },
          "metadata": {
            "tags": []
          },
          "execution_count": 20
        },
        {
          "output_type": "display_data",
          "data": {
            "image/png": "[encoded data removed]",
            "text/plain": [
              "<Figure size 432x288 with 1 Axes>"
            ]
          },
          "metadata": {
            "tags": [],
            "needs_background": "light"
          }
        }
      ]
    },
    {
      "cell_type": "code",
      "metadata": {
        "colab": {
          "base_uri": "https://localhost:8080/"
        },
        "id": "OgevS4oRL7wk",
        "outputId": "d1fe6f00-7cb9-4b64-d460-24db0503aed9"
      },
      "source": [
        "# Our objective to simplify\r\n",
        "i5 = Image.open(file_path+'/images/numbers/y0.5.png')\r\n",
        "iar5 = np.asarray(i5)\r\n",
        "iar5"
      ],
      "execution_count": 21,
      "outputs": [
        {
          "output_type": "execute_result",
          "data": {
            "text/plain": [
              "array([[[255, 242,   0, 255],\n",
              "        [255, 242,   0, 255],\n",
              "        [239, 228, 176, 255],\n",
              "        [239, 228, 176, 255],\n",
              "        [239, 228, 176, 255],\n",
              "        [239, 228, 176, 255],\n",
              "        [255, 242,   0, 255],\n",
              "        [255, 242,   0, 255]],\n",
              "\n",
              "       [[255, 242,   0, 255],\n",
              "        [239, 228, 176, 255],\n",
              "        [255, 242,   0, 255],\n",
              "        [255, 242,   0, 255],\n",
              "        [255, 242,   0, 255],\n",
              "        [255, 242,   0, 255],\n",
              "        [239, 228, 176, 255],\n",
              "        [255, 242,   0, 255]],\n",
              "\n",
              "       [[239, 228, 176, 255],\n",
              "        [255, 242,   0, 255],\n",
              "        [255, 242,   0, 255],\n",
              "        [255, 242,   0, 255],\n",
              "        [255, 242,   0, 255],\n",
              "        [255, 242,   0, 255],\n",
              "        [255, 242,   0, 255],\n",
              "        [239, 228, 176, 255]],\n",
              "\n",
              "       [[239, 228, 176, 255],\n",
              "        [255, 242,   0, 255],\n",
              "        [255, 242,   0, 255],\n",
              "        [255, 242,   0, 255],\n",
              "        [255, 242,   0, 255],\n",
              "        [255, 242,   0, 255],\n",
              "        [255, 242,   0, 255],\n",
              "        [239, 228, 176, 255]],\n",
              "\n",
              "       [[239, 228, 176, 255],\n",
              "        [255, 242,   0, 255],\n",
              "        [255, 242,   0, 255],\n",
              "        [255, 242,   0, 255],\n",
              "        [255, 242,   0, 255],\n",
              "        [255, 242,   0, 255],\n",
              "        [255, 242,   0, 255],\n",
              "        [239, 228, 176, 255]],\n",
              "\n",
              "       [[239, 228, 176, 255],\n",
              "        [255, 242,   0, 255],\n",
              "        [255, 242,   0, 255],\n",
              "        [255, 242,   0, 255],\n",
              "        [255, 242,   0, 255],\n",
              "        [255, 242,   0, 255],\n",
              "        [255, 242,   0, 255],\n",
              "        [239, 228, 176, 255]],\n",
              "\n",
              "       [[255, 242,   0, 255],\n",
              "        [239, 228, 176, 255],\n",
              "        [255, 242,   0, 255],\n",
              "        [255, 242,   0, 255],\n",
              "        [255, 242,   0, 255],\n",
              "        [255, 242,   0, 255],\n",
              "        [239, 228, 176, 255],\n",
              "        [255, 242,   0, 255]],\n",
              "\n",
              "       [[255, 242,   0, 255],\n",
              "        [255, 242,   0, 255],\n",
              "        [239, 228, 176, 255],\n",
              "        [239, 228, 176, 255],\n",
              "        [239, 228, 176, 255],\n",
              "        [239, 228, 176, 255],\n",
              "        [255, 242,   0, 255],\n",
              "        [255, 242,   0, 255]]], dtype=uint8)"
            ]
          },
          "metadata": {
            "tags": []
          },
          "execution_count": 21
        }
      ]
    },
    {
      "cell_type": "code",
      "metadata": {
        "colab": {
          "base_uri": "https://localhost:8080/",
          "height": 282
        },
        "id": "Vx8FC-RIMkMU",
        "outputId": "3741f4c1-8b4b-4e37-b73c-8384c0ff41be"
      },
      "source": [
        "plt.imshow(iar5)"
      ],
      "execution_count": 22,
      "outputs": [
        {
          "output_type": "execute_result",
          "data": {
            "text/plain": [
              "<matplotlib.image.AxesImage at 0x7f7dadc3d0b8>"
            ]
          },
          "metadata": {
            "tags": []
          },
          "execution_count": 22
        },
        {
          "output_type": "display_data",
          "data": {
            "image/png": "[encoded data removed]",
            "text/plain": [
              "<Figure size 432x288 with 1 Axes>"
            ]
          },
          "metadata": {
            "tags": [],
            "needs_background": "light"
          }
        }
      ]
    },
    {
      "cell_type": "markdown",
      "metadata": {
        "id": "AY4vsI6NMrNM"
      },
      "source": [
        "## Thresholding Function\r\n",
        "\r\n",
        "* Create a function that will take the images we feed it and threshold it\r\n",
        "* We are going to do this by taking the \"average\" color value, and then thresholding any pixel as black if its darker or white if its is lighter\r\n"
      ]
    },
    {
      "cell_type": "code",
      "metadata": {
        "id": "v6gp3mTrNC0z"
      },
      "source": [
        "# parameter will be imageArray which is the array with pixel values\r\n",
        "def threshold(imageArray):\r\n",
        "  # Balance array at the end will be averaged to find threshold\r\n",
        "  balanceAr = []\r\n",
        "  # We cannot modify the actual array without NumPy throwing a fit\r\n",
        "  newAr = imageArray\r\n",
        "  for eachRow in imageArray:\r\n",
        "    for eachPix in eachRow:\r\n",
        "      # get the mean of each pix\r\n",
        "      avgNum = mean(eachPix[:3])\r\n",
        "      # append t0 balance Array\r\n",
        "      balanceAr.append(avgNum)\r\n",
        "  # Take overall the mean from pixel means\r\n",
        "  balance = mean(balanceAr)\r\n",
        "\r\n",
        "  for eachRow in newAr:\r\n",
        "    for eachPix in eachRow:\r\n",
        "      # if the mean of each pixel is more than balance\r\n",
        "      # Assign White else Assign Black\r\n",
        "      if mean(eachPix[:3]) > balance:\r\n",
        "        eachPix[0] = 255\r\n",
        "        eachPix[1] = 255        \r\n",
        "        eachPix[2] = 255                \r\n",
        "        eachPix[3] = 255                        \r\n",
        "      else:\r\n",
        "        eachPix[0] = 0\r\n",
        "        eachPix[1] = 0        \r\n",
        "        eachPix[2] = 0                \r\n",
        "        eachPix[3] = 255\r\n",
        "\r\n",
        "  return newAr        \r\n"
      ],
      "execution_count": 23,
      "outputs": []
    },
    {
      "cell_type": "code",
      "metadata": {
        "id": "W0DxiZfUOuBi"
      },
      "source": [
        "# Lets apply the function\r\n",
        "i1 = Image.open(file_path+'/images/numbers/0.1.png')\r\n",
        "iar1 = np.array(i1)\r\n",
        "i2 = Image.open(file_path+'/images/numbers/y0.4.png')\r\n",
        "iar2 = np.array(i2)\r\n",
        "i3 = Image.open(file_path+'/images/numbers/y0.5.png')\r\n",
        "iar3 = np.array(i3)\r\n",
        "i4 = Image.open(file_path+'/images/sentdex.png')\r\n",
        "iar4 = np.array(i4)"
      ],
      "execution_count": 28,
      "outputs": []
    },
    {
      "cell_type": "code",
      "metadata": {
        "colab": {
          "base_uri": "https://localhost:8080/",
          "height": 265
        },
        "id": "QSh1aVS5U_pc",
        "outputId": "23d273fe-ffda-400b-bbd8-fc3319608e9b"
      },
      "source": [
        "fig = plt.figure()\r\n",
        "ax1 = plt.subplot2grid((8, 6), (0,0), rowspan = 4, colspan = 3)\r\n",
        "ax2 = plt.subplot2grid((8, 6), (4,0), rowspan = 4, colspan = 3)\r\n",
        "ax3 = plt.subplot2grid((8, 6), (0,3), rowspan = 4, colspan = 3)\r\n",
        "ax4 = plt.subplot2grid((8, 6), (4,3), rowspan = 4, colspan = 3)\r\n",
        "\r\n",
        "ax1.imshow(iar1)\r\n",
        "ax2.imshow(iar2)\r\n",
        "ax3.imshow(iar3)\r\n",
        "ax4.imshow(iar4)\r\n",
        "plt.show()"
      ],
      "execution_count": 30,
      "outputs": [
        {
          "output_type": "display_data",
          "data": {
            "image/png": "[encoded data removed]",
            "text/plain": [
              "<Figure size 432x288 with 4 Axes>"
            ]
          },
          "metadata": {
            "tags": [],
            "needs_background": "light"
          }
        }
      ]
    },
    {
      "cell_type": "code",
      "metadata": {
        "colab": {
          "base_uri": "https://localhost:8080/",
          "height": 265
        },
        "id": "KoNJ7QqvVmBr",
        "outputId": "ccd407af-1bb6-40ff-e6ae-62658ff7d8d5"
      },
      "source": [
        "# Apply Threshold\r\n",
        "iar1 = threshold(iar1)\r\n",
        "iar2 = threshold(iar2)\r\n",
        "iar3 = threshold(iar3)\r\n",
        "iar4 = threshold(iar4)\r\n",
        "fig = plt.figure()\r\n",
        "ax1 = plt.subplot2grid((8, 6), (0,0), rowspan = 4, colspan = 3)\r\n",
        "ax2 = plt.subplot2grid((8, 6), (4,0), rowspan = 4, colspan = 3)\r\n",
        "ax3 = plt.subplot2grid((8, 6), (0,3), rowspan = 4, colspan = 3)\r\n",
        "ax4 = plt.subplot2grid((8, 6), (4,3), rowspan = 4, colspan = 3)\r\n",
        "\r\n",
        "ax1.imshow(iar1)\r\n",
        "ax2.imshow(iar2)\r\n",
        "ax3.imshow(iar3)\r\n",
        "ax4.imshow(iar4)\r\n",
        "plt.show()"
      ],
      "execution_count": 32,
      "outputs": [
        {
          "output_type": "display_data",
          "data": {
            "image/png": "[encoded data removed]",
            "text/plain": [
              "<Figure size 432x288 with 4 Axes>"
            ]
          },
          "metadata": {
            "tags": [],
            "needs_background": "light"
          }
        }
      ]
    }
  ]
}